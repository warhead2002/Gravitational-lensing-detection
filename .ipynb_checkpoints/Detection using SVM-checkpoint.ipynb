{
 "cells": [
  {
   "cell_type": "markdown",
   "id": "a9016700-9447-4b71-8f0d-4d9b6cb76d20",
   "metadata": {},
   "source": [
    "Refered from https://github.com/aditi-govindu/Image-Classsification-using-sklearn"
   ]
  },
  {
   "cell_type": "code",
   "execution_count": 3,
   "id": "93fd307a-8ae7-4f90-a4af-4098cc623ebc",
   "metadata": {},
   "outputs": [],
   "source": [
    "#in case of pillow install instead of PIL\n",
    "from PIL import ImageFile\n",
    "ImageFile.LOAD_TRUNCATED_IMAGES = True"
   ]
  },
  {
   "cell_type": "markdown",
   "id": "8221e43a-da32-4627-be85-dcbeb45591a0",
   "metadata": {},
   "source": [
    "<h1>Data Preprocessing</h1>"
   ]
  },
  {
   "cell_type": "code",
   "execution_count": 4,
   "id": "2f1238f5-e4df-4b9a-a78e-4940ff5b67b5",
   "metadata": {},
   "outputs": [
    {
     "name": "stdout",
     "output_type": "stream",
     "text": [
      "Category is: lensed \tLabel encoded as: 0\n",
      "Category is: unlensed \tLabel encoded as: 1\n"
     ]
    }
   ],
   "source": [
    "import os\n",
    "import pandas as pd\n",
    "import matplotlib.pyplot as plt\n",
    "import numpy as np\n",
    "from skimage.io import imread\n",
    "from skimage.transform import resize\n",
    "from skimage.color import rgb2gray\n",
    "\n",
    "target = []\n",
    "flat_data = []\n",
    "images = []\n",
    "DataDirectory = 'train'\n",
    "\n",
    "# Images to be classified as:\n",
    "Categories = [\"lensed\",\"unlensed\"]\n",
    "\n",
    "for i in Categories:\n",
    "    print(\"Category is:\",i,\"\\tLabel encoded as:\",Categories.index(i))\n",
    "    # Encode categories cute puppy as 0, icecream cone as 1 and red rose as 2\n",
    "    target_class = Categories.index(i)\n",
    "    # Create data path for all folders under MinorProject\n",
    "    path = os.path.join(DataDirectory,i)\n",
    "    # Image resizing, to ensure all images are of same dimensions\n",
    "    for img in os.listdir(path):\n",
    "        img_array = imread(os.path.join(path,img))\n",
    "        # Skimage normalizes the value of image\n",
    "        img_resized = resize(img_array,(150,150,3))\n",
    "        flat_data.append(img_resized.flatten())\n",
    "        images.append(img_resized)\n",
    "        target.append(target_class)\n",
    "# Convert list to numpy array format\n",
    "flat_data = np.array(flat_data)\n",
    "images = np.array(images)\n",
    "target = np.array(target)"
   ]
  },
  {
   "cell_type": "code",
   "execution_count": 5,
   "id": "e319fef0-71f1-4b2a-b54e-2a94badc76d5",
   "metadata": {},
   "outputs": [
    {
     "data": {
      "text/html": [
       "<div>\n",
       "<style scoped>\n",
       "    .dataframe tbody tr th:only-of-type {\n",
       "        vertical-align: middle;\n",
       "    }\n",
       "\n",
       "    .dataframe tbody tr th {\n",
       "        vertical-align: top;\n",
       "    }\n",
       "\n",
       "    .dataframe thead th {\n",
       "        text-align: right;\n",
       "    }\n",
       "</style>\n",
       "<table border=\"1\" class=\"dataframe\">\n",
       "  <thead>\n",
       "    <tr style=\"text-align: right;\">\n",
       "      <th></th>\n",
       "      <th>0</th>\n",
       "      <th>1</th>\n",
       "      <th>2</th>\n",
       "      <th>3</th>\n",
       "      <th>4</th>\n",
       "      <th>5</th>\n",
       "      <th>6</th>\n",
       "      <th>7</th>\n",
       "      <th>8</th>\n",
       "      <th>9</th>\n",
       "      <th>...</th>\n",
       "      <th>67491</th>\n",
       "      <th>67492</th>\n",
       "      <th>67493</th>\n",
       "      <th>67494</th>\n",
       "      <th>67495</th>\n",
       "      <th>67496</th>\n",
       "      <th>67497</th>\n",
       "      <th>67498</th>\n",
       "      <th>67499</th>\n",
       "      <th>Target</th>\n",
       "    </tr>\n",
       "  </thead>\n",
       "  <tbody>\n",
       "    <tr>\n",
       "      <th>0</th>\n",
       "      <td>0.067444</td>\n",
       "      <td>0.036532</td>\n",
       "      <td>0.021054</td>\n",
       "      <td>0.072107</td>\n",
       "      <td>0.037088</td>\n",
       "      <td>0.018695</td>\n",
       "      <td>0.072121</td>\n",
       "      <td>0.031556</td>\n",
       "      <td>0.022330</td>\n",
       "      <td>0.063456</td>\n",
       "      <td>...</td>\n",
       "      <td>0.027577</td>\n",
       "      <td>0.022954</td>\n",
       "      <td>0.015368</td>\n",
       "      <td>0.028850</td>\n",
       "      <td>0.024325</td>\n",
       "      <td>0.016858</td>\n",
       "      <td>0.032603</td>\n",
       "      <td>0.025301</td>\n",
       "      <td>0.016983</td>\n",
       "      <td>0</td>\n",
       "    </tr>\n",
       "    <tr>\n",
       "      <th>1</th>\n",
       "      <td>0.025879</td>\n",
       "      <td>0.033517</td>\n",
       "      <td>0.030210</td>\n",
       "      <td>0.024510</td>\n",
       "      <td>0.029584</td>\n",
       "      <td>0.033968</td>\n",
       "      <td>0.026091</td>\n",
       "      <td>0.030026</td>\n",
       "      <td>0.037871</td>\n",
       "      <td>0.028835</td>\n",
       "      <td>...</td>\n",
       "      <td>0.042757</td>\n",
       "      <td>0.035583</td>\n",
       "      <td>0.041267</td>\n",
       "      <td>0.125445</td>\n",
       "      <td>0.073786</td>\n",
       "      <td>0.078372</td>\n",
       "      <td>0.068892</td>\n",
       "      <td>0.050131</td>\n",
       "      <td>0.051497</td>\n",
       "      <td>0</td>\n",
       "    </tr>\n",
       "    <tr>\n",
       "      <th>2</th>\n",
       "      <td>0.073235</td>\n",
       "      <td>0.065040</td>\n",
       "      <td>0.068962</td>\n",
       "      <td>0.071824</td>\n",
       "      <td>0.063583</td>\n",
       "      <td>0.067504</td>\n",
       "      <td>0.073194</td>\n",
       "      <td>0.061631</td>\n",
       "      <td>0.065553</td>\n",
       "      <td>0.079837</td>\n",
       "      <td>...</td>\n",
       "      <td>0.092572</td>\n",
       "      <td>0.076396</td>\n",
       "      <td>0.069585</td>\n",
       "      <td>0.124763</td>\n",
       "      <td>0.092258</td>\n",
       "      <td>0.056325</td>\n",
       "      <td>0.521179</td>\n",
       "      <td>0.445267</td>\n",
       "      <td>0.178808</td>\n",
       "      <td>0</td>\n",
       "    </tr>\n",
       "    <tr>\n",
       "      <th>3</th>\n",
       "      <td>0.075385</td>\n",
       "      <td>0.055096</td>\n",
       "      <td>0.070650</td>\n",
       "      <td>0.071079</td>\n",
       "      <td>0.059996</td>\n",
       "      <td>0.072840</td>\n",
       "      <td>0.065576</td>\n",
       "      <td>0.059955</td>\n",
       "      <td>0.074130</td>\n",
       "      <td>0.066944</td>\n",
       "      <td>...</td>\n",
       "      <td>0.056597</td>\n",
       "      <td>0.060381</td>\n",
       "      <td>0.075890</td>\n",
       "      <td>0.061885</td>\n",
       "      <td>0.062579</td>\n",
       "      <td>0.077189</td>\n",
       "      <td>0.048749</td>\n",
       "      <td>0.067365</td>\n",
       "      <td>0.076878</td>\n",
       "      <td>0</td>\n",
       "    </tr>\n",
       "    <tr>\n",
       "      <th>4</th>\n",
       "      <td>0.065208</td>\n",
       "      <td>0.073052</td>\n",
       "      <td>0.061954</td>\n",
       "      <td>0.061001</td>\n",
       "      <td>0.069622</td>\n",
       "      <td>0.064191</td>\n",
       "      <td>0.058567</td>\n",
       "      <td>0.071902</td>\n",
       "      <td>0.067734</td>\n",
       "      <td>0.058050</td>\n",
       "      <td>...</td>\n",
       "      <td>0.060960</td>\n",
       "      <td>0.068425</td>\n",
       "      <td>0.058735</td>\n",
       "      <td>0.062506</td>\n",
       "      <td>0.068642</td>\n",
       "      <td>0.068360</td>\n",
       "      <td>0.067732</td>\n",
       "      <td>0.069340</td>\n",
       "      <td>0.067779</td>\n",
       "      <td>0</td>\n",
       "    </tr>\n",
       "    <tr>\n",
       "      <th>...</th>\n",
       "      <td>...</td>\n",
       "      <td>...</td>\n",
       "      <td>...</td>\n",
       "      <td>...</td>\n",
       "      <td>...</td>\n",
       "      <td>...</td>\n",
       "      <td>...</td>\n",
       "      <td>...</td>\n",
       "      <td>...</td>\n",
       "      <td>...</td>\n",
       "      <td>...</td>\n",
       "      <td>...</td>\n",
       "      <td>...</td>\n",
       "      <td>...</td>\n",
       "      <td>...</td>\n",
       "      <td>...</td>\n",
       "      <td>...</td>\n",
       "      <td>...</td>\n",
       "      <td>...</td>\n",
       "      <td>...</td>\n",
       "      <td>...</td>\n",
       "    </tr>\n",
       "    <tr>\n",
       "      <th>270</th>\n",
       "      <td>0.104749</td>\n",
       "      <td>0.104749</td>\n",
       "      <td>0.104749</td>\n",
       "      <td>0.076137</td>\n",
       "      <td>0.076137</td>\n",
       "      <td>0.076137</td>\n",
       "      <td>0.049302</td>\n",
       "      <td>0.049302</td>\n",
       "      <td>0.049302</td>\n",
       "      <td>0.137366</td>\n",
       "      <td>...</td>\n",
       "      <td>0.098294</td>\n",
       "      <td>0.099298</td>\n",
       "      <td>0.099882</td>\n",
       "      <td>0.112287</td>\n",
       "      <td>0.112995</td>\n",
       "      <td>0.113791</td>\n",
       "      <td>0.083141</td>\n",
       "      <td>0.083141</td>\n",
       "      <td>0.084291</td>\n",
       "      <td>1</td>\n",
       "    </tr>\n",
       "    <tr>\n",
       "      <th>271</th>\n",
       "      <td>0.062854</td>\n",
       "      <td>0.011874</td>\n",
       "      <td>0.047168</td>\n",
       "      <td>0.063072</td>\n",
       "      <td>0.012092</td>\n",
       "      <td>0.047386</td>\n",
       "      <td>0.064597</td>\n",
       "      <td>0.013617</td>\n",
       "      <td>0.048911</td>\n",
       "      <td>0.069390</td>\n",
       "      <td>...</td>\n",
       "      <td>0.082353</td>\n",
       "      <td>0.015686</td>\n",
       "      <td>0.047059</td>\n",
       "      <td>0.084314</td>\n",
       "      <td>0.017647</td>\n",
       "      <td>0.049020</td>\n",
       "      <td>0.085621</td>\n",
       "      <td>0.018954</td>\n",
       "      <td>0.050327</td>\n",
       "      <td>1</td>\n",
       "    </tr>\n",
       "    <tr>\n",
       "      <th>272</th>\n",
       "      <td>0.155447</td>\n",
       "      <td>0.155447</td>\n",
       "      <td>0.155447</td>\n",
       "      <td>0.121242</td>\n",
       "      <td>0.121242</td>\n",
       "      <td>0.121242</td>\n",
       "      <td>0.061765</td>\n",
       "      <td>0.062418</td>\n",
       "      <td>0.063725</td>\n",
       "      <td>0.029085</td>\n",
       "      <td>...</td>\n",
       "      <td>0.049129</td>\n",
       "      <td>0.049129</td>\n",
       "      <td>0.041285</td>\n",
       "      <td>0.056209</td>\n",
       "      <td>0.056209</td>\n",
       "      <td>0.048366</td>\n",
       "      <td>0.058824</td>\n",
       "      <td>0.058824</td>\n",
       "      <td>0.050980</td>\n",
       "      <td>1</td>\n",
       "    </tr>\n",
       "    <tr>\n",
       "      <th>273</th>\n",
       "      <td>0.062092</td>\n",
       "      <td>0.062092</td>\n",
       "      <td>0.062092</td>\n",
       "      <td>0.043791</td>\n",
       "      <td>0.043791</td>\n",
       "      <td>0.043791</td>\n",
       "      <td>0.013617</td>\n",
       "      <td>0.013617</td>\n",
       "      <td>0.013617</td>\n",
       "      <td>0.002723</td>\n",
       "      <td>...</td>\n",
       "      <td>0.004575</td>\n",
       "      <td>0.004575</td>\n",
       "      <td>0.004575</td>\n",
       "      <td>0.004575</td>\n",
       "      <td>0.004575</td>\n",
       "      <td>0.004575</td>\n",
       "      <td>0.004575</td>\n",
       "      <td>0.004575</td>\n",
       "      <td>0.004575</td>\n",
       "      <td>1</td>\n",
       "    </tr>\n",
       "    <tr>\n",
       "      <th>274</th>\n",
       "      <td>0.043137</td>\n",
       "      <td>0.019608</td>\n",
       "      <td>0.019608</td>\n",
       "      <td>0.043137</td>\n",
       "      <td>0.019608</td>\n",
       "      <td>0.019608</td>\n",
       "      <td>0.043137</td>\n",
       "      <td>0.019608</td>\n",
       "      <td>0.019608</td>\n",
       "      <td>0.043137</td>\n",
       "      <td>...</td>\n",
       "      <td>0.043137</td>\n",
       "      <td>0.019608</td>\n",
       "      <td>0.019608</td>\n",
       "      <td>0.043137</td>\n",
       "      <td>0.019608</td>\n",
       "      <td>0.019608</td>\n",
       "      <td>0.043137</td>\n",
       "      <td>0.019608</td>\n",
       "      <td>0.019608</td>\n",
       "      <td>1</td>\n",
       "    </tr>\n",
       "  </tbody>\n",
       "</table>\n",
       "<p>275 rows × 67501 columns</p>\n",
       "</div>"
      ],
      "text/plain": [
       "            0         1         2         3         4         5         6  \\\n",
       "0    0.067444  0.036532  0.021054  0.072107  0.037088  0.018695  0.072121   \n",
       "1    0.025879  0.033517  0.030210  0.024510  0.029584  0.033968  0.026091   \n",
       "2    0.073235  0.065040  0.068962  0.071824  0.063583  0.067504  0.073194   \n",
       "3    0.075385  0.055096  0.070650  0.071079  0.059996  0.072840  0.065576   \n",
       "4    0.065208  0.073052  0.061954  0.061001  0.069622  0.064191  0.058567   \n",
       "..        ...       ...       ...       ...       ...       ...       ...   \n",
       "270  0.104749  0.104749  0.104749  0.076137  0.076137  0.076137  0.049302   \n",
       "271  0.062854  0.011874  0.047168  0.063072  0.012092  0.047386  0.064597   \n",
       "272  0.155447  0.155447  0.155447  0.121242  0.121242  0.121242  0.061765   \n",
       "273  0.062092  0.062092  0.062092  0.043791  0.043791  0.043791  0.013617   \n",
       "274  0.043137  0.019608  0.019608  0.043137  0.019608  0.019608  0.043137   \n",
       "\n",
       "            7         8         9  ...     67491     67492     67493  \\\n",
       "0    0.031556  0.022330  0.063456  ...  0.027577  0.022954  0.015368   \n",
       "1    0.030026  0.037871  0.028835  ...  0.042757  0.035583  0.041267   \n",
       "2    0.061631  0.065553  0.079837  ...  0.092572  0.076396  0.069585   \n",
       "3    0.059955  0.074130  0.066944  ...  0.056597  0.060381  0.075890   \n",
       "4    0.071902  0.067734  0.058050  ...  0.060960  0.068425  0.058735   \n",
       "..        ...       ...       ...  ...       ...       ...       ...   \n",
       "270  0.049302  0.049302  0.137366  ...  0.098294  0.099298  0.099882   \n",
       "271  0.013617  0.048911  0.069390  ...  0.082353  0.015686  0.047059   \n",
       "272  0.062418  0.063725  0.029085  ...  0.049129  0.049129  0.041285   \n",
       "273  0.013617  0.013617  0.002723  ...  0.004575  0.004575  0.004575   \n",
       "274  0.019608  0.019608  0.043137  ...  0.043137  0.019608  0.019608   \n",
       "\n",
       "        67494     67495     67496     67497     67498     67499  Target  \n",
       "0    0.028850  0.024325  0.016858  0.032603  0.025301  0.016983       0  \n",
       "1    0.125445  0.073786  0.078372  0.068892  0.050131  0.051497       0  \n",
       "2    0.124763  0.092258  0.056325  0.521179  0.445267  0.178808       0  \n",
       "3    0.061885  0.062579  0.077189  0.048749  0.067365  0.076878       0  \n",
       "4    0.062506  0.068642  0.068360  0.067732  0.069340  0.067779       0  \n",
       "..        ...       ...       ...       ...       ...       ...     ...  \n",
       "270  0.112287  0.112995  0.113791  0.083141  0.083141  0.084291       1  \n",
       "271  0.084314  0.017647  0.049020  0.085621  0.018954  0.050327       1  \n",
       "272  0.056209  0.056209  0.048366  0.058824  0.058824  0.050980       1  \n",
       "273  0.004575  0.004575  0.004575  0.004575  0.004575  0.004575       1  \n",
       "274  0.043137  0.019608  0.019608  0.043137  0.019608  0.019608       1  \n",
       "\n",
       "[275 rows x 67501 columns]"
      ]
     },
     "execution_count": 5,
     "metadata": {},
     "output_type": "execute_result"
    }
   ],
   "source": [
    "df = pd.DataFrame(flat_data)\n",
    "# Create a column for output data called Target\n",
    "df['Target'] = target\n",
    "# Rows are all the input images (90 images, 30 of each category)\n",
    "df"
   ]
  },
  {
   "cell_type": "code",
   "execution_count": 6,
   "id": "524940c4-6b60-41d3-9e06-886f0cf4af9b",
   "metadata": {},
   "outputs": [
    {
     "name": "stdout",
     "output_type": "stream",
     "text": [
      "AxesImage(54,36;334.8x217.44)\n"
     ]
    },
    {
     "data": {
      "image/png": "[encoded data removed]",
      "text/plain": [
       "<Figure size 432x288 with 1 Axes>"
      ]
     },
     "metadata": {
      "needs_background": "light"
     },
     "output_type": "display_data"
    }
   ],
   "source": [
    "# Display 1 resized image \n",
    "print(plt.imshow(images[20]))"
   ]
  },
  {
   "cell_type": "markdown",
   "id": "6c8be11b-b14f-4d46-b6c4-07e28991e981",
   "metadata": {},
   "source": [
    "<h1>Split data into test-train</h1>"
   ]
  },
  {
   "cell_type": "code",
   "execution_count": 7,
   "id": "27eb4005-f376-4080-8ee3-0e8cc5795984",
   "metadata": {},
   "outputs": [
    {
     "name": "stdout",
     "output_type": "stream",
     "text": [
      "Input data dimensions: (275, 67500)\n",
      "Output data dimensions: (275,)\n",
      "Dimensions of input training data: (192, 67500)\n",
      "Dimensions of input testing data: (83, 67500)\n",
      "Dimensions of output training data: (192,)\n",
      "Dimensions of output testing data: (83,)\n"
     ]
    }
   ],
   "source": [
    "# Split data into input and output sets\n",
    "from sklearn.model_selection import train_test_split\n",
    "\n",
    "# x is all input values of images and their pixel values (90 images * 67500)\n",
    "# y is output values or correct label of image (90 images * 1 column of labels)\n",
    "\n",
    "x = df.iloc[:,:-1].values\n",
    "y = target\n",
    "print(\"Input data dimensions:\",x.shape)\n",
    "print(\"Output data dimensions:\",y.shape)\n",
    "\n",
    "# Stratify ensures every image is divided in equal proportions (no bias)\n",
    "x_train,x_test,y_train,y_test = train_test_split(x,y,shuffle=True,test_size = 0.3,random_state=109,stratify=y)\n",
    "print(\"Dimensions of input training data:\",x_train.shape)\n",
    "print(\"Dimensions of input testing data:\",x_test.shape)\n",
    "print(\"Dimensions of output training data:\",y_train.shape)\n",
    "print(\"Dimensions of output testing data:\",y_test.shape)"
   ]
  },
  {
   "cell_type": "markdown",
   "id": "0ed6be9a-2118-44fb-87ea-59eb28fd7ba7",
   "metadata": {},
   "source": [
    "<h1>Applying SVM</h1>"
   ]
  },
  {
   "cell_type": "code",
   "execution_count": 8,
   "id": "fac0ef68-026c-4527-b14b-89605e545488",
   "metadata": {},
   "outputs": [
    {
     "name": "stdout",
     "output_type": "stream",
     "text": [
      "Fitting 5 folds for each of 8 candidates, totalling 40 fits\n",
      "[CV 1/5] END ......C=1, gamma=0.001, kernel=rbf;, score=0.718 total time=   4.9s\n",
      "[CV 2/5] END ......C=1, gamma=0.001, kernel=rbf;, score=0.744 total time=   5.0s\n",
      "[CV 3/5] END ......C=1, gamma=0.001, kernel=rbf;, score=0.605 total time=   5.1s\n",
      "[CV 4/5] END ......C=1, gamma=0.001, kernel=rbf;, score=0.553 total time=   4.6s\n",
      "[CV 5/5] END ......C=1, gamma=0.001, kernel=rbf;, score=0.684 total time=   5.1s\n",
      "[CV 1/5] END .....C=1, gamma=0.0001, kernel=rbf;, score=0.718 total time=   4.5s\n",
      "[CV 2/5] END .....C=1, gamma=0.0001, kernel=rbf;, score=0.769 total time=   4.7s\n",
      "[CV 3/5] END .....C=1, gamma=0.0001, kernel=rbf;, score=0.684 total time=   4.3s\n",
      "[CV 4/5] END .....C=1, gamma=0.0001, kernel=rbf;, score=0.579 total time=   4.3s\n",
      "[CV 5/5] END .....C=1, gamma=0.0001, kernel=rbf;, score=0.684 total time=   4.2s\n",
      "[CV 1/5] END .....C=10, gamma=0.001, kernel=rbf;, score=0.564 total time=   5.3s\n",
      "[CV 2/5] END .....C=10, gamma=0.001, kernel=rbf;, score=0.641 total time=   5.1s\n",
      "[CV 3/5] END .....C=10, gamma=0.001, kernel=rbf;, score=0.579 total time=   5.3s\n",
      "[CV 4/5] END .....C=10, gamma=0.001, kernel=rbf;, score=0.579 total time=   5.2s\n",
      "[CV 5/5] END .....C=10, gamma=0.001, kernel=rbf;, score=0.711 total time=   6.1s\n",
      "[CV 1/5] END ....C=10, gamma=0.0001, kernel=rbf;, score=0.718 total time=   4.8s\n",
      "[CV 2/5] END ....C=10, gamma=0.0001, kernel=rbf;, score=0.718 total time=   4.9s\n",
      "[CV 3/5] END ....C=10, gamma=0.0001, kernel=rbf;, score=0.711 total time=   4.7s\n",
      "[CV 4/5] END ....C=10, gamma=0.0001, kernel=rbf;, score=0.605 total time=   4.3s\n",
      "[CV 5/5] END ....C=10, gamma=0.0001, kernel=rbf;, score=0.711 total time=   4.3s\n",
      "[CV 1/5] END ....C=100, gamma=0.001, kernel=rbf;, score=0.564 total time=   5.4s\n",
      "[CV 2/5] END ....C=100, gamma=0.001, kernel=rbf;, score=0.615 total time=   5.3s\n",
      "[CV 3/5] END ....C=100, gamma=0.001, kernel=rbf;, score=0.579 total time=   5.3s\n",
      "[CV 4/5] END ....C=100, gamma=0.001, kernel=rbf;, score=0.605 total time=   5.1s\n",
      "[CV 5/5] END ....C=100, gamma=0.001, kernel=rbf;, score=0.737 total time=   5.6s\n",
      "[CV 1/5] END ...C=100, gamma=0.0001, kernel=rbf;, score=0.538 total time=   5.1s\n",
      "[CV 2/5] END ...C=100, gamma=0.0001, kernel=rbf;, score=0.641 total time=   4.7s\n",
      "[CV 3/5] END ...C=100, gamma=0.0001, kernel=rbf;, score=0.632 total time=   5.1s\n",
      "[CV 4/5] END ...C=100, gamma=0.0001, kernel=rbf;, score=0.579 total time=   4.5s\n",
      "[CV 5/5] END ...C=100, gamma=0.0001, kernel=rbf;, score=0.658 total time=   4.4s\n",
      "[CV 1/5] END ...C=1000, gamma=0.001, kernel=rbf;, score=0.564 total time=   5.0s\n",
      "[CV 2/5] END ...C=1000, gamma=0.001, kernel=rbf;, score=0.615 total time=   5.3s\n",
      "[CV 3/5] END ...C=1000, gamma=0.001, kernel=rbf;, score=0.579 total time=   4.8s\n",
      "[CV 4/5] END ...C=1000, gamma=0.001, kernel=rbf;, score=0.605 total time=   5.8s\n",
      "[CV 5/5] END ...C=1000, gamma=0.001, kernel=rbf;, score=0.737 total time=   5.4s\n",
      "[CV 1/5] END ..C=1000, gamma=0.0001, kernel=rbf;, score=0.538 total time=   4.9s\n",
      "[CV 2/5] END ..C=1000, gamma=0.0001, kernel=rbf;, score=0.667 total time=   4.6s\n",
      "[CV 3/5] END ..C=1000, gamma=0.0001, kernel=rbf;, score=0.579 total time=   4.9s\n",
      "[CV 4/5] END ..C=1000, gamma=0.0001, kernel=rbf;, score=0.553 total time=   4.9s\n",
      "[CV 5/5] END ..C=1000, gamma=0.0001, kernel=rbf;, score=0.632 total time=   4.9s\n"
     ]
    },
    {
     "data": {
      "text/plain": [
       "GridSearchCV(estimator=SVC(),\n",
       "             param_grid=[{'C': [1, 10, 100, 1000], 'gamma': [0.001, 0.0001],\n",
       "                          'kernel': ['rbf']}],\n",
       "             verbose=3)"
      ]
     },
     "execution_count": 8,
     "metadata": {},
     "output_type": "execute_result"
    }
   ],
   "source": [
    "# Applying Support Vector Machine classifier\n",
    "from sklearn.model_selection import GridSearchCV\n",
    "from sklearn.svm import SVC\n",
    "\n",
    "# Set the parameters by cross-validation\n",
    "tuned_parameters = [{'kernel': ['rbf'], 'gamma': [1e-3, 1e-4],\n",
    "                     'C': [1, 10, 100, 1000]}]\n",
    "                    \n",
    "# Apply GridSearchCV to find best parameters for given dataset\n",
    "# verbose is used to describe the steps taken to find best parameters\n",
    "cv = GridSearchCV(SVC(), tuned_parameters, refit = True,verbose= 3) \n",
    "cv.fit(x_train,y_train)"
   ]
  },
  {
   "cell_type": "code",
   "execution_count": 9,
   "id": "10e7a6a6-e981-42d2-94c9-57bddde118c3",
   "metadata": {},
   "outputs": [
    {
     "name": "stdout",
     "output_type": "stream",
     "text": [
      "Best parameters to apply are: {'C': 10, 'gamma': 0.0001, 'kernel': 'rbf'}\n",
      "Model after tuning is:\n",
      " SVC(C=10, gamma=0.0001)\n"
     ]
    }
   ],
   "source": [
    "# Display parameters selected by GridSearchCV for SVM 3 classes\n",
    "# Parameters obtained: {'C': 10, 'gamma': 0.0001, 'kernel': 'rbf'}\n",
    "print(\"Best parameters to apply are:\",cv.best_params_)\n",
    "# Display model after hyperparameter tuning\n",
    "svm = cv.best_estimator_\n",
    "print(\"Model after tuning is:\\n\",svm)"
   ]
  },
  {
   "cell_type": "code",
   "execution_count": 10,
   "id": "a20f65b7-e83d-4b42-993b-38e2f3789303",
   "metadata": {},
   "outputs": [],
   "source": [
    "# Predict the output of model after above parameters are applied to it\n",
    "y_prediction = svm.predict(x_test)"
   ]
  },
  {
   "cell_type": "markdown",
   "id": "5671564b-6ae1-4215-bbb2-68872b7dba8b",
   "metadata": {},
   "source": [
    "<h1>Accuracy Analysis</h1>"
   ]
  },
  {
   "cell_type": "code",
   "execution_count": 18,
   "id": "2783e08d-e4ae-4ec8-bb62-ba8accba3dfa",
   "metadata": {},
   "outputs": [
    {
     "name": "stdout",
     "output_type": "stream",
     "text": [
      "Accuracy score: 74.69879518072288 %\n"
     ]
    }
   ],
   "source": [
    "from sklearn.metrics import confusion_matrix,classification_report,accuracy_score,recall_score,precision_score,f1_score\n",
    "\n",
    "# print(\"\\nClassification report of model:\\n\",classification_report(y_prediction,y_test))\n",
    "print(\"Accuracy score:\",100*accuracy_score(y_prediction,y_test),\"%\")"
   ]
  },
  {
   "cell_type": "code",
   "execution_count": 19,
   "id": "382bf2b7-dc72-4ddd-ba24-ea3f1b06be07",
   "metadata": {},
   "outputs": [
    {
     "name": "stdout",
     "output_type": "stream",
     "text": [
      "F1 score:  0.8037383177570094\n",
      "F1-micro score:  0.7469879518072289\n",
      "F1-macro score:  0.7239030571835895\n",
      "F1-weighted score:  0.7402548575420009\n",
      "Recall:  0.86\n",
      "Precision:  0.7543859649122807\n"
     ]
    },
    {
     "data": {
      "text/plain": [
       "array([[19, 14],\n",
       "       [ 7, 43]], dtype=int64)"
      ]
     },
     "execution_count": 19,
     "metadata": {},
     "output_type": "execute_result"
    }
   ],
   "source": [
    "print(\"F1 score: \",f1_score(y_test,y_prediction))\n",
    "print(\"F1-micro score: \",f1_score(y_test,y_prediction,average='micro'))\n",
    "print(\"F1-macro score: \",f1_score(y_test,y_prediction,average='macro'))\n",
    "print(\"F1-weighted score: \",f1_score(y_test,y_prediction,average='weighted'))\n",
    "\n",
    "print(\"Recall: \",recall_score(y_test,y_prediction))\n",
    "print(\"Precision: \",precision_score(y_test,y_prediction))\n",
    "confusion_matrix(y_test,y_prediction)"
   ]
  },
  {
   "cell_type": "markdown",
   "id": "1da008b5-46e5-47c4-a7ca-caf5c486a291",
   "metadata": {},
   "source": [
    "<h1>Saving Model</h1>"
   ]
  },
  {
   "cell_type": "code",
   "execution_count": 12,
   "id": "81c262d9-7531-44b8-ba0c-307050c64db9",
   "metadata": {},
   "outputs": [],
   "source": [
    "import pickle\n",
    "# Save SVM model in pickle file\n",
    "pickle.dump(svm,open(\"gravitational-lensing-model.p\",\"wb\"))"
   ]
  },
  {
   "cell_type": "markdown",
   "id": "3da31ac9-216c-4045-8613-e25bc457ba30",
   "metadata": {},
   "source": [
    "<h1>Testing saved model</h1>"
   ]
  },
  {
   "cell_type": "code",
   "execution_count": 13,
   "id": "fda78237-ddd5-469d-a08b-c0b7bab97eca",
   "metadata": {},
   "outputs": [],
   "source": [
    "# Read byte from pickle model\n",
    "test_model = pickle.load(open(\"gravitational-lensing-model.p\",\"rb\"))"
   ]
  },
  {
   "cell_type": "code",
   "execution_count": 14,
   "id": "138d1a0f-a655-414c-b5a8-a7ee86539054",
   "metadata": {},
   "outputs": [
    {
     "ename": "KeyboardInterrupt",
     "evalue": "Interrupted by user",
     "output_type": "error",
     "traceback": [
      "\u001b[1;31m---------------------------------------------------------------------------\u001b[0m",
      "\u001b[1;31mKeyboardInterrupt\u001b[0m                         Traceback (most recent call last)",
      "\u001b[1;32m~\\AppData\\Local\\Temp/ipykernel_18232/1738598441.py\u001b[0m in \u001b[0;36m<module>\u001b[1;34m\u001b[0m\n\u001b[0;32m      1\u001b[0m \u001b[1;31m# Testing for a new image\u001b[0m\u001b[1;33m\u001b[0m\u001b[1;33m\u001b[0m\u001b[1;33m\u001b[0m\u001b[0m\n\u001b[0;32m      2\u001b[0m \u001b[0mflat_data\u001b[0m \u001b[1;33m=\u001b[0m \u001b[1;33m[\u001b[0m\u001b[1;33m]\u001b[0m\u001b[1;33m\u001b[0m\u001b[1;33m\u001b[0m\u001b[0m\n\u001b[1;32m----> 3\u001b[1;33m \u001b[0murl\u001b[0m \u001b[1;33m=\u001b[0m \u001b[0minput\u001b[0m \u001b[1;33m(\u001b[0m\u001b[1;34m'Enter url of image to test: '\u001b[0m\u001b[1;33m)\u001b[0m\u001b[1;33m\u001b[0m\u001b[1;33m\u001b[0m\u001b[0m\n\u001b[0m\u001b[0;32m      4\u001b[0m \u001b[0mimg_array\u001b[0m \u001b[1;33m=\u001b[0m \u001b[0mimread\u001b[0m\u001b[1;33m(\u001b[0m\u001b[0murl\u001b[0m\u001b[1;33m)\u001b[0m\u001b[1;33m\u001b[0m\u001b[1;33m\u001b[0m\u001b[0m\n\u001b[0;32m      5\u001b[0m \u001b[1;31m# Resize image\u001b[0m\u001b[1;33m\u001b[0m\u001b[1;33m\u001b[0m\u001b[1;33m\u001b[0m\u001b[0m\n",
      "\u001b[1;32m~\\AppData\\Roaming\\Python\\Python39\\site-packages\\ipykernel\\kernelbase.py\u001b[0m in \u001b[0;36mraw_input\u001b[1;34m(self, prompt)\u001b[0m\n\u001b[0;32m    979\u001b[0m                 \u001b[1;34m\"raw_input was called, but this frontend does not support input requests.\"\u001b[0m\u001b[1;33m\u001b[0m\u001b[1;33m\u001b[0m\u001b[0m\n\u001b[0;32m    980\u001b[0m             )\n\u001b[1;32m--> 981\u001b[1;33m         return self._input_request(\n\u001b[0m\u001b[0;32m    982\u001b[0m             \u001b[0mstr\u001b[0m\u001b[1;33m(\u001b[0m\u001b[0mprompt\u001b[0m\u001b[1;33m)\u001b[0m\u001b[1;33m,\u001b[0m\u001b[1;33m\u001b[0m\u001b[1;33m\u001b[0m\u001b[0m\n\u001b[0;32m    983\u001b[0m             \u001b[0mself\u001b[0m\u001b[1;33m.\u001b[0m\u001b[0m_parent_ident\u001b[0m\u001b[1;33m[\u001b[0m\u001b[1;34m\"shell\"\u001b[0m\u001b[1;33m]\u001b[0m\u001b[1;33m,\u001b[0m\u001b[1;33m\u001b[0m\u001b[1;33m\u001b[0m\u001b[0m\n",
      "\u001b[1;32m~\\AppData\\Roaming\\Python\\Python39\\site-packages\\ipykernel\\kernelbase.py\u001b[0m in \u001b[0;36m_input_request\u001b[1;34m(self, prompt, ident, parent, password)\u001b[0m\n\u001b[0;32m   1024\u001b[0m             \u001b[1;32mexcept\u001b[0m \u001b[0mKeyboardInterrupt\u001b[0m\u001b[1;33m:\u001b[0m\u001b[1;33m\u001b[0m\u001b[1;33m\u001b[0m\u001b[0m\n\u001b[0;32m   1025\u001b[0m                 \u001b[1;31m# re-raise KeyboardInterrupt, to truncate traceback\u001b[0m\u001b[1;33m\u001b[0m\u001b[1;33m\u001b[0m\u001b[1;33m\u001b[0m\u001b[0m\n\u001b[1;32m-> 1026\u001b[1;33m                 \u001b[1;32mraise\u001b[0m \u001b[0mKeyboardInterrupt\u001b[0m\u001b[1;33m(\u001b[0m\u001b[1;34m\"Interrupted by user\"\u001b[0m\u001b[1;33m)\u001b[0m \u001b[1;32mfrom\u001b[0m \u001b[1;32mNone\u001b[0m\u001b[1;33m\u001b[0m\u001b[1;33m\u001b[0m\u001b[0m\n\u001b[0m\u001b[0;32m   1027\u001b[0m             \u001b[1;32mexcept\u001b[0m \u001b[0mException\u001b[0m\u001b[1;33m:\u001b[0m\u001b[1;33m\u001b[0m\u001b[1;33m\u001b[0m\u001b[0m\n\u001b[0;32m   1028\u001b[0m                 \u001b[0mself\u001b[0m\u001b[1;33m.\u001b[0m\u001b[0mlog\u001b[0m\u001b[1;33m.\u001b[0m\u001b[0mwarning\u001b[0m\u001b[1;33m(\u001b[0m\u001b[1;34m\"Invalid Message:\"\u001b[0m\u001b[1;33m,\u001b[0m \u001b[0mexc_info\u001b[0m\u001b[1;33m=\u001b[0m\u001b[1;32mTrue\u001b[0m\u001b[1;33m)\u001b[0m\u001b[1;33m\u001b[0m\u001b[1;33m\u001b[0m\u001b[0m\n",
      "\u001b[1;31mKeyboardInterrupt\u001b[0m: Interrupted by user"
     ]
    }
   ],
   "source": [
    "# Testing for a new image\n",
    "flat_data = []\n",
    "url = input ('Enter url of image to test: ')\n",
    "img_array = imread(url)\n",
    "# Resize image\n",
    "img_resized = resize(img_array,(150,150,3))\n",
    "flat_data.append(img_resized.flatten())\n",
    "flat_data = np.array(flat_data)\n",
    "print(\"Dimensions of original image are:\",img_array.shape)\n",
    "plt.imshow(img_resized)\n",
    "y_output = test_model.predict(flat_data)\n",
    "y_output = Categories[y_output[0]]\n",
    "# URLs to test:\n",
    "#https://cdn.mos.cms.futurecdn.net/nGVgh7Nwid5HFgCgvs6cUJ.jpg\n",
    "#https://www.atnf.csiro.au/outreach//education/senior/astrophysics/images/stellarevolution/jewelboxmbsml.jpg\n",
    "print(\"PREDICTED OUTPUT IS:\",y_output)"
   ]
  },
  {
   "cell_type": "code",
   "execution_count": null,
   "id": "a055a94b-de9a-4f6b-ad2c-9c008cac06d6",
   "metadata": {},
   "outputs": [],
   "source": []
  }
 ],
 "metadata": {
  "kernelspec": {
   "display_name": "Python 3 (ipykernel)",
   "language": "python",
   "name": "python3"
  },
  "language_info": {
   "codemirror_mode": {
    "name": "ipython",
    "version": 3
   },
   "file_extension": ".py",
   "mimetype": "text/x-python",
   "name": "python",
   "nbconvert_exporter": "python",
   "pygments_lexer": "ipython3",
   "version": "3.9.6"
  }
 },
 "nbformat": 4,
 "nbformat_minor": 5
}
