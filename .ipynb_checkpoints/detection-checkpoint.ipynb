{
 "cells": [
  {
   "cell_type": "markdown",
   "id": "5d5c9bce-1017-453f-ad81-6110ca3f3b10",
   "metadata": {},
   "source": [
    "<h1>Detection using Transfer Learning</h1>"
   ]
  },
  {
   "cell_type": "markdown",
   "id": "8f77eb3b-1ecf-4346-9a16-d74dfd66c7d3",
   "metadata": {},
   "source": [
    "<h3>Using Keras</h3>"
   ]
  },
  {
   "cell_type": "markdown",
   "id": "78b495de-870b-4030-a811-2678d2164e1b",
   "metadata": {},
   "source": [
    "Model created using Google's <a href=\"https://teachablemachine.withgoogle.com/\">Teachable Machine Learning</a>"
   ]
  },
  {
   "cell_type": "code",
   "execution_count": 17,
   "id": "b7fe6e47-eeee-4669-97c9-38cd551cebc6",
   "metadata": {},
   "outputs": [],
   "source": [
    "#import libraries\n",
    "from keras.models import load_model\n",
    "from PIL import Image, ImageOps\n",
    "import numpy as np\n",
    "import os"
   ]
  },
  {
   "cell_type": "code",
   "execution_count": 18,
   "id": "d4ea3181-33af-45d8-bb49-f33b198bd5d5",
   "metadata": {},
   "outputs": [],
   "source": [
    "def detect(file):\n",
    "    # Load the model\n",
    "    model = load_model('lensing.h5', compile=False)\n",
    "    # Load the labels\n",
    "    class_names = open('labels.txt', 'r').readlines()\n",
    "\n",
    "    # Create the array of the right shape to feed into the keras model\n",
    "    # The 'length' or number of images you can put into the array is\n",
    "    # determined by the first position in the shape tuple, in this case 1.\n",
    "    data = np.ndarray(shape=(1, 224, 224, 3), dtype=np.float32)\n",
    "\n",
    "    # Replace this with the path to your image\n",
    "    image = Image.open(file).convert('RGB')\n",
    "\n",
    "    #resize the image to a 224x224 with the same strategy as in TM2:\n",
    "    #resizing the image to be at least 224x224 and then cropping from the center\n",
    "    size = (224, 224)\n",
    "    image = ImageOps.fit(image, size)\n",
    "\n",
    "    #turn the image into a numpy array\n",
    "    image_array = np.asarray(image)\n",
    "\n",
    "    # Normalize the image\n",
    "    normalized_image_array = (image_array.astype(np.float32) / 127.0) - 1\n",
    "\n",
    "    # Load the image into the array\n",
    "    data[0] = normalized_image_array\n",
    "    \n",
    "    # run the inference\n",
    "    prediction = model.predict(data)\n",
    "    index = np.argmax(prediction)\n",
    "    class_name = class_names[index]\n",
    "    confidence_score = prediction[0][index]\n",
    "    return (class_name,confidence_score)"
   ]
  },
  {
   "cell_type": "code",
   "execution_count": 19,
   "id": "c4620a8b-0615-40b2-9e43-c4baa42ee777",
   "metadata": {},
   "outputs": [
    {
     "name": "stdout",
     "output_type": "stream",
     "text": [
      "Image is: Lensed\n",
      "Confidence score: 99.75656270980835 %\n"
     ]
    }
   ],
   "source": [
    "#sample output\n",
    "category,confidence = detect('test/lensed/lensed.jpg')\n",
    "print('Image is:', category, end='')\n",
    "print('Confidence score:', confidence*100,'%')"
   ]
  },
  {
   "cell_type": "code",
   "execution_count": 20,
   "id": "acdc2565-6087-4095-9100-d8828be0d86f",
   "metadata": {},
   "outputs": [],
   "source": [
    "test_lensed = os.listdir('test/lensed/')\n",
    "test_unlensed = os.listdir('test/unlensed/')\n",
    "\n",
    "lensed_result = []\n",
    "unlensed_result = []\n",
    "for i in test_lensed:\n",
    "    path = 'test/lensed/'+i\n",
    "    category,confidence = detect(path)\n",
    "    lensed_result.append(category[:-1])\n",
    "for i in test_unlensed:\n",
    "    path = 'test/unlensed/'+i\n",
    "    category,confidence = detect(path)\n",
    "    unlensed_result.append(category[:-1])"
   ]
  },
  {
   "cell_type": "code",
   "execution_count": 21,
   "id": "cdee6022-74c3-4660-af5b-4242c1bddeb0",
   "metadata": {},
   "outputs": [],
   "source": [
    "lensed = []\n",
    "unlensed = []\n",
    "for i in lensed_result:\n",
    "    if i == 'Lensed':\n",
    "        lensed.append(1)\n",
    "    else:\n",
    "        lensed.append(0)\n",
    "for i in unlensed_result:\n",
    "    if i == 'Unlensed':\n",
    "        unlensed.append(1)\n",
    "    else:\n",
    "        unlensed.append(0)"
   ]
  },
  {
   "cell_type": "code",
   "execution_count": 22,
   "id": "36d982bc-8253-40b0-a7e4-e1bef533cb2e",
   "metadata": {},
   "outputs": [
    {
     "name": "stdout",
     "output_type": "stream",
     "text": [
      "[1, 1, 1, 1, 1, 1, 1, 1, 1, 1, 1, 1, 1, 1, 1, 1, 1, 1, 1, 1, 1, 1, 1, 1, 1, 1, 1, 1, 1, 1] [1, 1, 1, 1, 1, 1, 1, 1, 1, 1, 1, 1, 1, 1, 1, 1, 1, 1, 1, 1, 1, 1, 1, 1, 1, 1, 1, 1, 1, 1]\n"
     ]
    }
   ],
   "source": [
    "pred = lensed+unlensed\n",
    "true = []\n",
    "for i in range(len(pred)):\n",
    "    true.append(1)\n",
    "print(pred,true)"
   ]
  },
  {
   "cell_type": "code",
   "execution_count": 23,
   "id": "04365ab3-3de0-4715-8977-f43892e33f06",
   "metadata": {},
   "outputs": [
    {
     "name": "stdout",
     "output_type": "stream",
     "text": [
      "Accuracy:  100.0 %\n"
     ]
    }
   ],
   "source": [
    "import keras\n",
    "metric = keras.metrics.Accuracy()\n",
    "metric.update_state(true,pred)\n",
    "print(\"Accuracy: \",metric.result().numpy()*100,\"%\")"
   ]
  },
  {
   "cell_type": "code",
   "execution_count": 24,
   "id": "0f3edb6e-4347-40da-88d8-ba7853e0a427",
   "metadata": {},
   "outputs": [],
   "source": [
    "from sklearn.metrics import f1_score,recall_score,precision_score,confusion_matrix"
   ]
  },
  {
   "cell_type": "code",
   "execution_count": 27,
   "id": "47948385-6ee1-4e5e-bb6f-9201bcade6b1",
   "metadata": {},
   "outputs": [
    {
     "name": "stdout",
     "output_type": "stream",
     "text": [
      "F1 score:  1.0\n",
      "F1-micro score:  1.0\n",
      "F1-macro score:  1.0\n",
      "F1-weighted score:  1.0\n",
      "Recall:  1.0\n",
      "Precision:  1.0\n"
     ]
    },
    {
     "data": {
      "text/plain": [
       "array([[30]], dtype=int64)"
      ]
     },
     "execution_count": 27,
     "metadata": {},
     "output_type": "execute_result"
    }
   ],
   "source": [
    "print(\"F1 score: \",f1_score(true,pred))\n",
    "print(\"F1-micro score: \",f1_score(true,pred,average='micro'))\n",
    "print(\"F1-macro score: \",f1_score(true,pred,average='macro'))\n",
    "print(\"F1-weighted score: \",f1_score(true,pred,average='weighted'))\n",
    "\n",
    "print(\"Recall: \",recall_score(true,pred))\n",
    "print(\"Precision: \",precision_score(true,pred))\n",
    "confusion_matrix(true,pred)"
   ]
  }
 ],
 "metadata": {
  "kernelspec": {
   "display_name": "Python 3 (ipykernel)",
   "language": "python",
   "name": "python3"
  },
  "language_info": {
   "codemirror_mode": {
    "name": "ipython",
    "version": 3
   },
   "file_extension": ".py",
   "mimetype": "text/x-python",
   "name": "python",
   "nbconvert_exporter": "python",
   "pygments_lexer": "ipython3",
   "version": "3.9.6"
  }
 },
 "nbformat": 4,
 "nbformat_minor": 5
}
