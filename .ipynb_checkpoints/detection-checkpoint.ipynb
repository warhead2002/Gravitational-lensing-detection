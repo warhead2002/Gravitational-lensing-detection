{
 "cells": [
  {
   "cell_type": "markdown",
   "id": "5d5c9bce-1017-453f-ad81-6110ca3f3b10",
   "metadata": {},
   "source": [
    "<h1>Detection using Transfer Learning</h1>"
   ]
  },
  {
   "cell_type": "markdown",
   "id": "8f77eb3b-1ecf-4346-9a16-d74dfd66c7d3",
   "metadata": {},
   "source": [
    "<h3>Using Keras</h3>"
   ]
  },
  {
   "cell_type": "markdown",
   "id": "78b495de-870b-4030-a811-2678d2164e1b",
   "metadata": {},
   "source": [
    "Model created using Google's <a href=\"https://teachablemachine.withgoogle.com/\">Teachable Machine Learning</a>"
   ]
  },
  {
   "cell_type": "code",
   "execution_count": 5,
   "id": "b7fe6e47-eeee-4669-97c9-38cd551cebc6",
   "metadata": {},
   "outputs": [],
   "source": [
    "#import libraries\n",
    "from keras.models import load_model\n",
    "from PIL import Image, ImageOps\n",
    "import numpy as np\n",
    "import os"
   ]
  },
  {
   "cell_type": "code",
   "execution_count": 6,
   "id": "d4ea3181-33af-45d8-bb49-f33b198bd5d5",
   "metadata": {},
   "outputs": [],
   "source": [
    "def detect(file):\n",
    "    # Load the model\n",
    "    model = load_model('lensing.h5', compile=False)\n",
    "    # Load the labels\n",
    "    class_names = open('labels.txt', 'r').readlines()\n",
    "\n",
    "    # Create the array of the right shape to feed into the keras model\n",
    "    # The 'length' or number of images you can put into the array is\n",
    "    # determined by the first position in the shape tuple, in this case 1.\n",
    "    data = np.ndarray(shape=(1, 224, 224, 3), dtype=np.float32)\n",
    "\n",
    "    # Replace this with the path to your image\n",
    "    image = Image.open(file).convert('RGB')\n",
    "\n",
    "    #resize the image to a 224x224 with the same strategy as in TM2:\n",
    "    #resizing the image to be at least 224x224 and then cropping from the center\n",
    "    size = (224, 224)\n",
    "    image = ImageOps.fit(image, size)\n",
    "\n",
    "    #turn the image into a numpy array\n",
    "    image_array = np.asarray(image)\n",
    "\n",
    "    # Normalize the image\n",
    "    normalized_image_array = (image_array.astype(np.float32) / 127.0) - 1\n",
    "\n",
    "    # Load the image into the array\n",
    "    data[0] = normalized_image_array\n",
    "    \n",
    "    # run the inference\n",
    "    prediction = model.predict(data)\n",
    "    index = np.argmax(prediction)\n",
    "    class_name = class_names[index]\n",
    "    confidence_score = prediction[0][index]\n",
    "    return (class_name,confidence_score)"
   ]
  },
  {
   "cell_type": "code",
   "execution_count": 7,
   "id": "c4620a8b-0615-40b2-9e43-c4baa42ee777",
   "metadata": {},
   "outputs": [
    {
     "name": "stdout",
     "output_type": "stream",
     "text": [
      "Image is: Lensed\n",
      "Confidence score: 99.75656270980835 %\n"
     ]
    }
   ],
   "source": [
    "#sample output\n",
    "category,confidence = detect('test/lensed/lensed.jpg')\n",
    "print('Image is:', category, end='')\n",
    "print('Confidence score:', confidence*100,'%')"
   ]
  },
  {
   "cell_type": "code",
   "execution_count": 8,
   "id": "acdc2565-6087-4095-9100-d8828be0d86f",
   "metadata": {},
   "outputs": [
    {
     "name": "stdout",
     "output_type": "stream",
     "text": [
      "WARNING:tensorflow:5 out of the last 5 calls to <function Model.make_predict_function.<locals>.predict_function at 0x00000269ECE40430> triggered tf.function retracing. Tracing is expensive and the excessive number of tracings could be due to (1) creating @tf.function repeatedly in a loop, (2) passing tensors with different shapes, (3) passing Python objects instead of tensors. For (1), please define your @tf.function outside of the loop. For (2), @tf.function has experimental_relax_shapes=True option that relaxes argument shapes that can avoid unnecessary retracing. For (3), please refer to https://www.tensorflow.org/guide/function#controlling_retracing and https://www.tensorflow.org/api_docs/python/tf/function for  more details.\n",
      "WARNING:tensorflow:6 out of the last 6 calls to <function Model.make_predict_function.<locals>.predict_function at 0x00000269F065D040> triggered tf.function retracing. Tracing is expensive and the excessive number of tracings could be due to (1) creating @tf.function repeatedly in a loop, (2) passing tensors with different shapes, (3) passing Python objects instead of tensors. For (1), please define your @tf.function outside of the loop. For (2), @tf.function has experimental_relax_shapes=True option that relaxes argument shapes that can avoid unnecessary retracing. For (3), please refer to https://www.tensorflow.org/guide/function#controlling_retracing and https://www.tensorflow.org/api_docs/python/tf/function for  more details.\n"
     ]
    }
   ],
   "source": [
    "test_lensed = os.listdir('test/lensed/')\n",
    "test_unlensed = os.listdir('test/unlensed/')\n",
    "\n",
    "lensed_result = []\n",
    "unlensed_result = []\n",
    "for i in test_lensed:\n",
    "    path = 'test/lensed/'+i\n",
    "    category,confidence = detect(path)\n",
    "    lensed_result.append(category[:-1])\n",
    "for i in test_unlensed:\n",
    "    path = 'test/unlensed/'+i\n",
    "    category,confidence = detect(path)\n",
    "    unlensed_result.append(category[:-1])"
   ]
  },
  {
   "cell_type": "code",
   "execution_count": 9,
   "id": "cdee6022-74c3-4660-af5b-4242c1bddeb0",
   "metadata": {},
   "outputs": [],
   "source": [
    "lensed = []\n",
    "unlensed = []\n",
    "for i in lensed_result:\n",
    "    if i == 'Lensed':\n",
    "        lensed.append(1)\n",
    "    else:\n",
    "        lensed.append(0)\n",
    "for i in unlensed_result:\n",
    "    if i == 'Unlensed':\n",
    "        unlensed.append(1)\n",
    "    else:\n",
    "        unlensed.append(0)"
   ]
  },
  {
   "cell_type": "code",
   "execution_count": 20,
   "id": "36d982bc-8253-40b0-a7e4-e1bef533cb2e",
   "metadata": {},
   "outputs": [
    {
     "name": "stdout",
     "output_type": "stream",
     "text": [
      "[1, 1, 1, 1, 1, 1, 0, 1, 0, 1, 1, 0, 1, 0, 1, 1, 0] [1, 1, 1, 1, 1, 1, 1, 1, 1, 1, 1, 1, 1, 1, 1, 1, 1]\n"
     ]
    }
   ],
   "source": [
    "pred = lensed+unlensed\n",
    "true = []\n",
    "for i in range(len(pred)):\n",
    "    true.append(1)\n",
    "print(pred,true)"
   ]
  },
  {
   "cell_type": "code",
   "execution_count": 22,
   "id": "04365ab3-3de0-4715-8977-f43892e33f06",
   "metadata": {},
   "outputs": [
    {
     "name": "stdout",
     "output_type": "stream",
     "text": [
      "Accuracy:  70.58823704719543 %\n"
     ]
    }
   ],
   "source": [
    "import keras\n",
    "metric = keras.metrics.Accuracy()\n",
    "metric.update_state(true,pred)\n",
    "print(\"Accuracy: \",metric.result().numpy()*100,\"%\")"
   ]
  },
  {
   "cell_type": "code",
   "execution_count": null,
   "id": "0f3edb6e-4347-40da-88d8-ba7853e0a427",
   "metadata": {},
   "outputs": [],
   "source": []
  }
 ],
 "metadata": {
  "kernelspec": {
   "display_name": "Python 3 (ipykernel)",
   "language": "python",
   "name": "python3"
  },
  "language_info": {
   "codemirror_mode": {
    "name": "ipython",
    "version": 3
   },
   "file_extension": ".py",
   "mimetype": "text/x-python",
   "name": "python",
   "nbconvert_exporter": "python",
   "pygments_lexer": "ipython3",
   "version": "3.9.6"
  }
 },
 "nbformat": 4,
 "nbformat_minor": 5
}
